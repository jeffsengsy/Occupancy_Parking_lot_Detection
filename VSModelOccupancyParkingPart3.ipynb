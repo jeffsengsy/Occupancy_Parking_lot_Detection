{
  "cells": [
    {
      "cell_type": "markdown",
      "metadata": {
        "id": "view-in-github",
        "colab_type": "text"
      },
      "source": [
        "<a href=\"https://colab.research.google.com/github/jeffsengsy/Occupancy_Parking_lot_Detection/blob/main/VSModelOccupancyParkingPart3.ipynb\" target=\"_parent\"><img src=\"https://colab.research.google.com/assets/colab-badge.svg\" alt=\"Open In Colab\"/></a>"
      ]
    },
    {
      "cell_type": "markdown",
      "metadata": {
        "id": "T0qitno3qCXk"
      },
      "source": [
        "Baseline Model"
      ]
    },
    {
      "cell_type": "markdown",
      "metadata": {
        "id": "OYnb-ZoXLmPF"
      },
      "source": [
        "# CNR Parking EDA Notebook\n",
        "\n",
        "This data will be prepared in preperation for training into a model"
      ]
    },
    {
      "cell_type": "code",
      "execution_count": null,
      "metadata": {
        "id": "B2hCSe8qLCo3"
      },
      "outputs": [],
      "source": [
        "#imports\n",
        "import os\n",
        "import cv2\n",
        "import torch\n",
        "import random\n",
        "import zipfile\n",
        "import numpy as np\n",
        "import torch.nn as nn\n",
        "import pandas as pd\n",
        "import seaborn as sns\n",
        "from PIL import Image\n",
        "import torch.optim as optim\n",
        "import tensorflow as tf\n",
        "import torch.nn.functional as F\n",
        "import matplotlib.pyplot as plt\n",
        "from urllib.request import urlretrieve\n",
        "import torchvision.transforms as transforms\n",
        "from torch.utils.data import Dataset, DataLoader\n",
        "%matplotlib inline"
      ]
    },
    {
      "cell_type": "markdown",
      "metadata": {
        "id": "dONf7SksL-ku"
      },
      "source": [
        "# Datasets\n",
        "\n",
        "CNRPark+EXT.csv (18.1 MB)\n",
        "\n",
        "CSV collecting metadata for each patch of both CNRPark and CNR-EXT datasets\n",
        "\n",
        "CNRPark-Patches-150x150.zip (36.6 MB)\n",
        "\n",
        "segmented images (patches) of parking spaces belonging to the CNRPark preliminary subset.\n",
        "Files follow this organization: <CAMERA>/<CLASS>/YYYYMMDD_HHMM_<SLOT_ID>.jpg, where:\n",
        "\n",
        "<CAMERA> can be A or B,\n",
        "<CLASS> can be free or busy,\n",
        "YYYYMMDD_HHMM is the zero-padded 24-hour capture datetime,\n",
        "<SLOT_ID> is a local ID given to the slot for that particular camera"
      ]
    },
    {
      "cell_type": "code",
      "execution_count": null,
      "metadata": {
        "colab": {
          "base_uri": "https://localhost:8080/",
          "height": 241
        },
        "id": "4EBxTiXjL0rt",
        "outputId": "0d4c4679-a7f0-4c57-c5b0-199917ef26fd"
      },
      "outputs": [
        {
          "name": "stderr",
          "output_type": "stream",
          "text": [
            "<ipython-input-43-332b11c17138>:10: DtypeWarning: Columns (0) have mixed types. Specify dtype option on import or set low_memory=False.\n",
            "  df = pd.read_csv(park_ext)\n"
          ]
        },
        {
          "data": {
            "application/vnd.google.colaboratory.intrinsic+json": {
              "type": "dataframe",
              "variable_name": "df"
            },
            "text/html": [
              "\n",
              "  <div id=\"df-0b25735b-59b7-40c5-8ad9-492e3b17ebd9\" class=\"colab-df-container\">\n",
              "    <div>\n",
              "<style scoped>\n",
              "    .dataframe tbody tr th:only-of-type {\n",
              "        vertical-align: middle;\n",
              "    }\n",
              "\n",
              "    .dataframe tbody tr th {\n",
              "        vertical-align: top;\n",
              "    }\n",
              "\n",
              "    .dataframe thead th {\n",
              "        text-align: right;\n",
              "    }\n",
              "</style>\n",
              "<table border=\"1\" class=\"dataframe\">\n",
              "  <thead>\n",
              "    <tr style=\"text-align: right;\">\n",
              "      <th></th>\n",
              "      <th>camera</th>\n",
              "      <th>datetime</th>\n",
              "      <th>day</th>\n",
              "      <th>hour</th>\n",
              "      <th>image_url</th>\n",
              "      <th>minute</th>\n",
              "      <th>month</th>\n",
              "      <th>occupancy</th>\n",
              "      <th>slot_id</th>\n",
              "      <th>weather</th>\n",
              "      <th>year</th>\n",
              "      <th>occupant_changed</th>\n",
              "    </tr>\n",
              "  </thead>\n",
              "  <tbody>\n",
              "    <tr>\n",
              "      <th>0</th>\n",
              "      <td>A</td>\n",
              "      <td>20150703_0805</td>\n",
              "      <td>3</td>\n",
              "      <td>8</td>\n",
              "      <td>CNRPark/A/free/20150703_0805_1.jpg</td>\n",
              "      <td>5</td>\n",
              "      <td>7</td>\n",
              "      <td>0</td>\n",
              "      <td>1</td>\n",
              "      <td>S</td>\n",
              "      <td>2015</td>\n",
              "      <td>NaN</td>\n",
              "    </tr>\n",
              "    <tr>\n",
              "      <th>1</th>\n",
              "      <td>A</td>\n",
              "      <td>20150703_0810</td>\n",
              "      <td>3</td>\n",
              "      <td>8</td>\n",
              "      <td>CNRPark/A/free/20150703_0810_1.jpg</td>\n",
              "      <td>10</td>\n",
              "      <td>7</td>\n",
              "      <td>0</td>\n",
              "      <td>1</td>\n",
              "      <td>S</td>\n",
              "      <td>2015</td>\n",
              "      <td>NaN</td>\n",
              "    </tr>\n",
              "    <tr>\n",
              "      <th>2</th>\n",
              "      <td>A</td>\n",
              "      <td>20150703_0815</td>\n",
              "      <td>3</td>\n",
              "      <td>8</td>\n",
              "      <td>CNRPark/A/busy/20150703_0815_1.jpg</td>\n",
              "      <td>15</td>\n",
              "      <td>7</td>\n",
              "      <td>1</td>\n",
              "      <td>1</td>\n",
              "      <td>S</td>\n",
              "      <td>2015</td>\n",
              "      <td>0.0</td>\n",
              "    </tr>\n",
              "    <tr>\n",
              "      <th>3</th>\n",
              "      <td>A</td>\n",
              "      <td>20150703_0820</td>\n",
              "      <td>3</td>\n",
              "      <td>8</td>\n",
              "      <td>CNRPark/A/busy/20150703_0820_1.jpg</td>\n",
              "      <td>20</td>\n",
              "      <td>7</td>\n",
              "      <td>1</td>\n",
              "      <td>1</td>\n",
              "      <td>S</td>\n",
              "      <td>2015</td>\n",
              "      <td>0.0</td>\n",
              "    </tr>\n",
              "    <tr>\n",
              "      <th>4</th>\n",
              "      <td>A</td>\n",
              "      <td>20150703_0825</td>\n",
              "      <td>3</td>\n",
              "      <td>8</td>\n",
              "      <td>CNRPark/A/busy/20150703_0825_1.jpg</td>\n",
              "      <td>25</td>\n",
              "      <td>7</td>\n",
              "      <td>1</td>\n",
              "      <td>1</td>\n",
              "      <td>S</td>\n",
              "      <td>2015</td>\n",
              "      <td>0.0</td>\n",
              "    </tr>\n",
              "  </tbody>\n",
              "</table>\n",
              "</div>\n",
              "    <div class=\"colab-df-buttons\">\n",
              "\n",
              "  <div class=\"colab-df-container\">\n",
              "    <button class=\"colab-df-convert\" onclick=\"convertToInteractive('df-0b25735b-59b7-40c5-8ad9-492e3b17ebd9')\"\n",
              "            title=\"Convert this dataframe to an interactive table.\"\n",
              "            style=\"display:none;\">\n",
              "\n",
              "  <svg xmlns=\"http://www.w3.org/2000/svg\" height=\"24px\" viewBox=\"0 -960 960 960\">\n",
              "    <path d=\"M120-120v-720h720v720H120Zm60-500h600v-160H180v160Zm220 220h160v-160H400v160Zm0 220h160v-160H400v160ZM180-400h160v-160H180v160Zm440 0h160v-160H620v160ZM180-180h160v-160H180v160Zm440 0h160v-160H620v160Z\"/>\n",
              "  </svg>\n",
              "    </button>\n",
              "\n",
              "  <style>\n",
              "    .colab-df-container {\n",
              "      display:flex;\n",
              "      gap: 12px;\n",
              "    }\n",
              "\n",
              "    .colab-df-convert {\n",
              "      background-color: #E8F0FE;\n",
              "      border: none;\n",
              "      border-radius: 50%;\n",
              "      cursor: pointer;\n",
              "      display: none;\n",
              "      fill: #1967D2;\n",
              "      height: 32px;\n",
              "      padding: 0 0 0 0;\n",
              "      width: 32px;\n",
              "    }\n",
              "\n",
              "    .colab-df-convert:hover {\n",
              "      background-color: #E2EBFA;\n",
              "      box-shadow: 0px 1px 2px rgba(60, 64, 67, 0.3), 0px 1px 3px 1px rgba(60, 64, 67, 0.15);\n",
              "      fill: #174EA6;\n",
              "    }\n",
              "\n",
              "    .colab-df-buttons div {\n",
              "      margin-bottom: 4px;\n",
              "    }\n",
              "\n",
              "    [theme=dark] .colab-df-convert {\n",
              "      background-color: #3B4455;\n",
              "      fill: #D2E3FC;\n",
              "    }\n",
              "\n",
              "    [theme=dark] .colab-df-convert:hover {\n",
              "      background-color: #434B5C;\n",
              "      box-shadow: 0px 1px 3px 1px rgba(0, 0, 0, 0.15);\n",
              "      filter: drop-shadow(0px 1px 2px rgba(0, 0, 0, 0.3));\n",
              "      fill: #FFFFFF;\n",
              "    }\n",
              "  </style>\n",
              "\n",
              "    <script>\n",
              "      const buttonEl =\n",
              "        document.querySelector('#df-0b25735b-59b7-40c5-8ad9-492e3b17ebd9 button.colab-df-convert');\n",
              "      buttonEl.style.display =\n",
              "        google.colab.kernel.accessAllowed ? 'block' : 'none';\n",
              "\n",
              "      async function convertToInteractive(key) {\n",
              "        const element = document.querySelector('#df-0b25735b-59b7-40c5-8ad9-492e3b17ebd9');\n",
              "        const dataTable =\n",
              "          await google.colab.kernel.invokeFunction('convertToInteractive',\n",
              "                                                    [key], {});\n",
              "        if (!dataTable) return;\n",
              "\n",
              "        const docLinkHtml = 'Like what you see? Visit the ' +\n",
              "          '<a target=\"_blank\" href=https://colab.research.google.com/notebooks/data_table.ipynb>data table notebook</a>'\n",
              "          + ' to learn more about interactive tables.';\n",
              "        element.innerHTML = '';\n",
              "        dataTable['output_type'] = 'display_data';\n",
              "        await google.colab.output.renderOutput(dataTable, element);\n",
              "        const docLink = document.createElement('div');\n",
              "        docLink.innerHTML = docLinkHtml;\n",
              "        element.appendChild(docLink);\n",
              "      }\n",
              "    </script>\n",
              "  </div>\n",
              "\n",
              "\n",
              "<div id=\"df-6c4e9f1c-135c-4e7b-894a-9e8129b16db2\">\n",
              "  <button class=\"colab-df-quickchart\" onclick=\"quickchart('df-6c4e9f1c-135c-4e7b-894a-9e8129b16db2')\"\n",
              "            title=\"Suggest charts\"\n",
              "            style=\"display:none;\">\n",
              "\n",
              "<svg xmlns=\"http://www.w3.org/2000/svg\" height=\"24px\"viewBox=\"0 0 24 24\"\n",
              "     width=\"24px\">\n",
              "    <g>\n",
              "        <path d=\"M19 3H5c-1.1 0-2 .9-2 2v14c0 1.1.9 2 2 2h14c1.1 0 2-.9 2-2V5c0-1.1-.9-2-2-2zM9 17H7v-7h2v7zm4 0h-2V7h2v10zm4 0h-2v-4h2v4z\"/>\n",
              "    </g>\n",
              "</svg>\n",
              "  </button>\n",
              "\n",
              "<style>\n",
              "  .colab-df-quickchart {\n",
              "      --bg-color: #E8F0FE;\n",
              "      --fill-color: #1967D2;\n",
              "      --hover-bg-color: #E2EBFA;\n",
              "      --hover-fill-color: #174EA6;\n",
              "      --disabled-fill-color: #AAA;\n",
              "      --disabled-bg-color: #DDD;\n",
              "  }\n",
              "\n",
              "  [theme=dark] .colab-df-quickchart {\n",
              "      --bg-color: #3B4455;\n",
              "      --fill-color: #D2E3FC;\n",
              "      --hover-bg-color: #434B5C;\n",
              "      --hover-fill-color: #FFFFFF;\n",
              "      --disabled-bg-color: #3B4455;\n",
              "      --disabled-fill-color: #666;\n",
              "  }\n",
              "\n",
              "  .colab-df-quickchart {\n",
              "    background-color: var(--bg-color);\n",
              "    border: none;\n",
              "    border-radius: 50%;\n",
              "    cursor: pointer;\n",
              "    display: none;\n",
              "    fill: var(--fill-color);\n",
              "    height: 32px;\n",
              "    padding: 0;\n",
              "    width: 32px;\n",
              "  }\n",
              "\n",
              "  .colab-df-quickchart:hover {\n",
              "    background-color: var(--hover-bg-color);\n",
              "    box-shadow: 0 1px 2px rgba(60, 64, 67, 0.3), 0 1px 3px 1px rgba(60, 64, 67, 0.15);\n",
              "    fill: var(--button-hover-fill-color);\n",
              "  }\n",
              "\n",
              "  .colab-df-quickchart-complete:disabled,\n",
              "  .colab-df-quickchart-complete:disabled:hover {\n",
              "    background-color: var(--disabled-bg-color);\n",
              "    fill: var(--disabled-fill-color);\n",
              "    box-shadow: none;\n",
              "  }\n",
              "\n",
              "  .colab-df-spinner {\n",
              "    border: 2px solid var(--fill-color);\n",
              "    border-color: transparent;\n",
              "    border-bottom-color: var(--fill-color);\n",
              "    animation:\n",
              "      spin 1s steps(1) infinite;\n",
              "  }\n",
              "\n",
              "  @keyframes spin {\n",
              "    0% {\n",
              "      border-color: transparent;\n",
              "      border-bottom-color: var(--fill-color);\n",
              "      border-left-color: var(--fill-color);\n",
              "    }\n",
              "    20% {\n",
              "      border-color: transparent;\n",
              "      border-left-color: var(--fill-color);\n",
              "      border-top-color: var(--fill-color);\n",
              "    }\n",
              "    30% {\n",
              "      border-color: transparent;\n",
              "      border-left-color: var(--fill-color);\n",
              "      border-top-color: var(--fill-color);\n",
              "      border-right-color: var(--fill-color);\n",
              "    }\n",
              "    40% {\n",
              "      border-color: transparent;\n",
              "      border-right-color: var(--fill-color);\n",
              "      border-top-color: var(--fill-color);\n",
              "    }\n",
              "    60% {\n",
              "      border-color: transparent;\n",
              "      border-right-color: var(--fill-color);\n",
              "    }\n",
              "    80% {\n",
              "      border-color: transparent;\n",
              "      border-right-color: var(--fill-color);\n",
              "      border-bottom-color: var(--fill-color);\n",
              "    }\n",
              "    90% {\n",
              "      border-color: transparent;\n",
              "      border-bottom-color: var(--fill-color);\n",
              "    }\n",
              "  }\n",
              "</style>\n",
              "\n",
              "  <script>\n",
              "    async function quickchart(key) {\n",
              "      const quickchartButtonEl =\n",
              "        document.querySelector('#' + key + ' button');\n",
              "      quickchartButtonEl.disabled = true;  // To prevent multiple clicks.\n",
              "      quickchartButtonEl.classList.add('colab-df-spinner');\n",
              "      try {\n",
              "        const charts = await google.colab.kernel.invokeFunction(\n",
              "            'suggestCharts', [key], {});\n",
              "      } catch (error) {\n",
              "        console.error('Error during call to suggestCharts:', error);\n",
              "      }\n",
              "      quickchartButtonEl.classList.remove('colab-df-spinner');\n",
              "      quickchartButtonEl.classList.add('colab-df-quickchart-complete');\n",
              "    }\n",
              "    (() => {\n",
              "      let quickchartButtonEl =\n",
              "        document.querySelector('#df-6c4e9f1c-135c-4e7b-894a-9e8129b16db2 button');\n",
              "      quickchartButtonEl.style.display =\n",
              "        google.colab.kernel.accessAllowed ? 'block' : 'none';\n",
              "    })();\n",
              "  </script>\n",
              "</div>\n",
              "\n",
              "    </div>\n",
              "  </div>\n"
            ],
            "text/plain": [
              "  camera       datetime  day  hour                           image_url  \\\n",
              "0      A  20150703_0805    3     8  CNRPark/A/free/20150703_0805_1.jpg   \n",
              "1      A  20150703_0810    3     8  CNRPark/A/free/20150703_0810_1.jpg   \n",
              "2      A  20150703_0815    3     8  CNRPark/A/busy/20150703_0815_1.jpg   \n",
              "3      A  20150703_0820    3     8  CNRPark/A/busy/20150703_0820_1.jpg   \n",
              "4      A  20150703_0825    3     8  CNRPark/A/busy/20150703_0825_1.jpg   \n",
              "\n",
              "   minute  month  occupancy  slot_id weather  year  occupant_changed  \n",
              "0       5      7          0        1       S  2015               NaN  \n",
              "1      10      7          0        1       S  2015               NaN  \n",
              "2      15      7          1        1       S  2015               0.0  \n",
              "3      20      7          1        1       S  2015               0.0  \n",
              "4      25      7          1        1       S  2015               0.0  "
            ]
          },
          "execution_count": 43,
          "metadata": {},
          "output_type": "execute_result"
        }
      ],
      "source": [
        "# CSV file of both park_ext data\n",
        "park_ext = \"https://github.com/fabiocarrara/deep-parking/releases/download/archive/CNRPark+EXT.csv\"\n",
        "\n",
        "# segmented images beloning to CNR_Park subset\n",
        "cnr_park = \"https://github.com/fabiocarrara/deep-parking/releases/download/archive/CNR-EXT-Patches-150x150.zip\"\n",
        "\n",
        "# segmented images of for CNR_EXT subset\n",
        "cnr_ext = \"https://github.com/fabiocarrara/deep-parking/releases/download/archive/CNR-EXT-Patches-150x150.zip\"\n",
        "\n",
        "df = pd.read_csv(park_ext)\n",
        "\n",
        "df.head()"
      ]
    },
    {
      "cell_type": "code",
      "execution_count": null,
      "metadata": {
        "colab": {
          "base_uri": "https://localhost:8080/"
        },
        "id": "0vqH0NDF0ATx",
        "outputId": "a8edb7a3-3e53-4698-a729-235983041c2e"
      },
      "outputs": [
        {
          "name": "stdout",
          "output_type": "stream",
          "text": [
            "<class 'pandas.core.frame.DataFrame'>\n",
            "RangeIndex: 157549 entries, 0 to 157548\n",
            "Data columns (total 12 columns):\n",
            " #   Column            Non-Null Count   Dtype  \n",
            "---  ------            --------------   -----  \n",
            " 0   camera            157549 non-null  object \n",
            " 1   datetime          157549 non-null  object \n",
            " 2   day               157549 non-null  int64  \n",
            " 3   hour              157549 non-null  int64  \n",
            " 4   image_url         157549 non-null  object \n",
            " 5   minute            157549 non-null  int64  \n",
            " 6   month             157549 non-null  int64  \n",
            " 7   occupancy         157549 non-null  int64  \n",
            " 8   slot_id           157549 non-null  int64  \n",
            " 9   weather           157549 non-null  object \n",
            " 10  year              157549 non-null  int64  \n",
            " 11  occupant_changed  87618 non-null   float64\n",
            "dtypes: float64(1), int64(7), object(4)\n",
            "memory usage: 14.4+ MB\n"
          ]
        }
      ],
      "source": [
        "# Display info\n",
        "df.info()"
      ]
    },
    {
      "cell_type": "code",
      "execution_count": null,
      "metadata": {
        "colab": {
          "base_uri": "https://localhost:8080/"
        },
        "id": "GTaz4-CSonN9",
        "outputId": "0493e4c5-ec98-4011-e33c-4d4cfe8968c4"
      },
      "outputs": [
        {
          "name": "stdout",
          "output_type": "stream",
          "text": [
            "Downloading dataset...\n",
            "Extracting dataset...\n"
          ]
        }
      ],
      "source": [
        "\n",
        "# paths\n",
        "zip_path = \"/content/CNR-EXT-Patches-150x150.zip\"\n",
        "extract_path = \"/content/CNR-EXT-Patches\"\n",
        "\n",
        "# Download and extract images\n",
        "print(\"Downloading dataset...\")\n",
        "urlretrieve(\"https://github.com/fabiocarrara/deep-parking/releases/download/archive/CNR-EXT-Patches-150x150.zip\", zip_path)\n",
        "\n",
        "print(\"Extracting dataset...\")\n",
        "with zipfile.ZipFile(zip_path, 'r') as zip_ref:\n",
        "    zip_ref.extractall(extract_path)\n",
        "    zip_contents = zip_ref.namelist()\n",
        "\n",
        "#print(\"Dataset extracted successfully!\")\n",
        "#for file in zip_contents:\n",
        "    #print(file)\n"
      ]
    },
    {
      "cell_type": "code",
      "execution_count": null,
      "metadata": {
        "colab": {
          "base_uri": "https://localhost:8080/"
        },
        "id": "BHpTmvRYjVxq",
        "outputId": "0d779d2d-b14b-4935-efa5-25d31140cc8c"
      },
      "outputs": [
        {
          "name": "stdout",
          "output_type": "stream",
          "text": [
            "['LABELS', 'PATCHES']\n"
          ]
        }
      ],
      "source": [
        "#Name list of files extracted\n",
        "extracted_files = os.listdir(extract_path)\n",
        "print(extracted_files)"
      ]
    },
    {
      "cell_type": "code",
      "execution_count": null,
      "metadata": {
        "colab": {
          "base_uri": "https://localhost:8080/"
        },
        "id": "xPeCcfMJssVe",
        "outputId": "3d19064b-dc74-47a0-dc83-16c21414b6f6"
      },
      "outputs": [
        {
          "name": "stdout",
          "output_type": "stream",
          "text": [
            "CNR-EXT-Patches\t\t     model_architecture.png    uner_forward_propagation.pdf\n",
            "CNR-EXT-Patches-150x150.zip  sample_data\t       unet_forward_propagation\n",
            "model_architecture\t     uner_forward_propagation  unet_forward_propagation.png\n"
          ]
        }
      ],
      "source": [
        "!ls /content\n"
      ]
    },
    {
      "cell_type": "code",
      "execution_count": null,
      "metadata": {
        "id": "DVXoMla3RV4_"
      },
      "outputs": [],
      "source": [
        "class ParkingDataset(Dataset):\n",
        "    def __init__(self, patch_dir, label_dir, transform=None):\n",
        "        self.patch_dir = patch_dir\n",
        "        self.label_dir = label_dir\n",
        "        self.transform = transform\n",
        "        self.patches = []\n",
        "        self.labels = {}\n",
        "\n",
        "        # Read label files\n",
        "        for label_file in os.listdir(label_dir):\n",
        "            if label_file.endswith(\".txt\"):\n",
        "                camera_id = label_file.split(\".txt\")[0]  # remove .txt\n",
        "                label_path = os.path.join(label_dir, label_file)\n",
        "\n",
        "                with open(label_path, \"r\") as file:\n",
        "                    for line in file:\n",
        "                        parts = line.strip().split(\" \")  # split\n",
        "                        if len(parts) == 2:\n",
        "                            img_relative_path, label = parts\n",
        "                            full_img_path = os.path.join(patch_dir, \"PATCHES\", img_relative_path)  # full path\n",
        "                            self.labels[full_img_path] = int(label)\n",
        "\n",
        "        # image paths\n",
        "        for root, _, files in os.walk(patch_dir):\n",
        "            for file in files:\n",
        "                full_path = os.path.join(root, file)\n",
        "                if full_path in self.labels:  # images match full path\n",
        "                    self.patches.append(full_path)\n",
        "\n",
        "    def __len__(self):\n",
        "        return len(self.patches)\n",
        "\n",
        "    def __getitem__(self, idx):\n",
        "     patch_path = self.patches[idx]\n",
        "     label = self.labels.get(patch_path, 0)  # Default to 0 if missing\n",
        "\n",
        "     patch = Image.open(patch_path).convert(\"RGB\")\n",
        "\n",
        "     if self.transform:\n",
        "        patch = self.transform(patch)\n",
        "\n",
        "    # 128x128 tensor\n",
        "     label = torch.full((128, 128), label, dtype=torch.long)\n",
        "\n",
        "     return patch, label\n",
        "\n",
        "\n",
        "#set paths\n",
        "patch_dir = \"/content/CNR-EXT-Patches\"\n",
        "label_dir = \"/content/CNR-EXT-Patches/LABELS\"\n"
      ]
    },
    {
      "cell_type": "code",
      "execution_count": null,
      "metadata": {
        "id": "Er74ND6hRXzz"
      },
      "outputs": [],
      "source": [
        "#Data Aumentation\n",
        "transform = transforms.Compose([\n",
        "    transforms.Resize((128,128)),\n",
        "    transforms.RandomHorizontalFlip(p=0.5),\n",
        "    transforms.RandomRotation(degrees=20),\n",
        "    transforms.ColorJitter(brightness=0.2, contrast=0.2,saturation=0.2),\n",
        "    transforms.ToTensor()\n",
        "])"
      ]
    },
    {
      "cell_type": "code",
      "execution_count": null,
      "metadata": {
        "id": "YDWxU3DMRi3L"
      },
      "outputs": [],
      "source": [
        "train_data = ParkingDataset(patch_dir,label_dir,transform)\n",
        "train_load = DataLoader(train_data, batch_size=8, shuffle= True)\n"
      ]
    },
    {
      "cell_type": "code",
      "execution_count": null,
      "metadata": {
        "id": "vvWjkGmyRvFT"
      },
      "outputs": [],
      "source": [
        "class UNet(nn.Module):\n",
        "    def __init__(self, in_channels=3, out_channels=2):  # 2 classes: occupied/free\n",
        "        super(UNet, self).__init__()\n",
        "\n",
        "        # Encoder\n",
        "        self.conv1 = nn.Conv2d(in_channels, 64, kernel_size=3, padding=1)\n",
        "        self.conv2 = nn.Conv2d(64, 128, kernel_size=3, padding=1)\n",
        "        self.conv3 = nn.Conv2d(128, 256, kernel_size=3, padding=1)\n",
        "\n",
        "        self.pool = nn.MaxPool2d(2, 2)\n",
        "\n",
        "        # Decoder\n",
        "        self.upconv1 = nn.ConvTranspose2d(256, 128, kernel_size=2, stride=2)\n",
        "        self.conv4 = nn.Conv2d(128, 64, kernel_size=3, padding=1)\n",
        "        self.upconv2 = nn.ConvTranspose2d(64, out_channels, kernel_size=2, stride=2)\n",
        "\n",
        "    def forward(self, x):\n",
        "        # Encoding\n",
        "        x1 = F.relu(self.conv1(x))\n",
        "        x2 = self.pool(F.relu(self.conv2(x1)))\n",
        "        x3 = self.pool(F.relu(self.conv3(x2)))\n",
        "\n",
        "        # Decoding\n",
        "        x4 = F.relu(self.upconv1(x3))\n",
        "        x5 = F.relu(self.conv4(x4))\n",
        "        x6 = self.upconv2(x5)\n",
        "\n",
        "        return x6 #segmentation labels\n",
        "\n",
        "#model initiate\n",
        "model = UNet()\n"
      ]
    },
    {
      "cell_type": "code",
      "execution_count": null,
      "metadata": {
        "colab": {
          "base_uri": "https://localhost:8080/",
          "height": 35
        },
        "id": "3JBNmaAFFFuM",
        "outputId": "cdb9483d-fc56-45d7-94d7-2219c4e8b6e2"
      },
      "outputs": [
        {
          "data": {
            "application/vnd.google.colaboratory.intrinsic+json": {
              "type": "string"
            },
            "text/plain": [
              "'model_architecture.png'"
            ]
          },
          "execution_count": 52,
          "metadata": {},
          "output_type": "execute_result"
        }
      ],
      "source": [
        "import torch\n",
        "from torchviz import make_dot\n",
        "\n",
        "# model\n",
        "model = UNet()\n",
        "\n",
        "# Dummy Tensor\n",
        "dummy_input = torch.randn(4, 3, 128, 128)\n",
        "\n",
        "# Forward pass\n",
        "output = model(dummy_input)\n",
        "\n",
        "# Display Graph\n",
        "make_dot(output, params=dict(model.named_parameters())).render(\"model_architecture\", format=\"png\", view=True)\n"
      ]
    },
    {
      "cell_type": "markdown",
      "metadata": {
        "id": "cwqk6nl-qCXr"
      },
      "source": [
        "![image.png](attachment:image.png)"
      ]
    },
    {
      "cell_type": "markdown",
      "metadata": {
        "id": "BAC4R8ScF2J_"
      },
      "source": [
        "![ModelArchitecture.png](data:image/png;base64,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)\n"
      ]
    },
    {
      "cell_type": "code",
      "execution_count": null,
      "metadata": {
        "id": "lAtkJyZ6RzsX"
      },
      "outputs": [],
      "source": [
        "device = torch.device(\"cuda\" if torch.cuda.is_available() else \"cpu\")\n",
        "model = UNet().to(device)"
      ]
    },
    {
      "cell_type": "code",
      "execution_count": null,
      "metadata": {
        "id": "R7sFPdNpR3fY"
      },
      "outputs": [],
      "source": [
        "criterion = nn.CrossEntropyLoss()\n",
        "optimizer = optim.Adam(model.parameters(),lr=0.001)\n",
        "scheduler = optim.lr_scheduler.StepLR(optimizer, step_size=5, gamma=0.5)\n",
        "num_epochs = 10"
      ]
    },
    {
      "cell_type": "code",
      "execution_count": null,
      "metadata": {
        "colab": {
          "base_uri": "https://localhost:8080/"
        },
        "id": "7NSUysKtR77C",
        "outputId": "a90c6b4b-77a7-438c-9fdb-b40b1ead5697"
      },
      "outputs": [
        {
          "name": "stdout",
          "output_type": "stream",
          "text": [
            "/content/CNR-EXT-Patches\n"
          ]
        }
      ],
      "source": [
        "print(patch_dir)"
      ]
    },
    {
      "cell_type": "code",
      "execution_count": null,
      "metadata": {
        "id": "mSa6RH2mwQ09"
      },
      "outputs": [],
      "source": [
        "subset_size = 1000  # subset of data to get baseline model running\n",
        "train_data = torch.utils.data.Subset(train_data, range(subset_size))\n"
      ]
    },
    {
      "cell_type": "code",
      "execution_count": null,
      "metadata": {
        "colab": {
          "base_uri": "https://localhost:8080/"
        },
        "id": "z7Onvteqznku",
        "outputId": "6595891c-42a2-42a5-f987-1bebfbb23db2"
      },
      "outputs": [
        {
          "name": "stdout",
          "output_type": "stream",
          "text": [
            "Epoch 1/10, Loss: 0.7409421801567078\n",
            "Epoch 2/10, Loss: 0.4241470396518707\n",
            "Epoch 3/10, Loss: 0.44099727272987366\n",
            "Epoch 4/10, Loss: 0.5637992024421692\n",
            "Epoch 5/10, Loss: 0.7394123673439026\n",
            "Epoch 6/10, Loss: 0.5676209330558777\n",
            "Epoch 7/10, Loss: 0.42310598492622375\n",
            "Epoch 8/10, Loss: 0.6704787015914917\n",
            "Epoch 9/10, Loss: 0.6615643501281738\n",
            "Epoch 10/10, Loss: 0.6117562651634216\n"
          ]
        }
      ],
      "source": [
        "dataloader = DataLoader(train_data, batch_size=8, shuffle=True, num_workers=1)\n",
        "\n",
        "num_epochs = 10  # Smaller number for initial testing\n",
        "for epoch in range(num_epochs):\n",
        "    model.train()\n",
        "    for patches, labels in dataloader:\n",
        "        outputs = model(patches)\n",
        "        loss = criterion(outputs, labels)\n",
        "        loss.backward()\n",
        "        optimizer.step()\n",
        "\n",
        "    print(f\"Epoch {epoch+1}/{num_epochs}, Loss: {loss.item()}\")\n"
      ]
    },
    {
      "cell_type": "code",
      "execution_count": null,
      "metadata": {
        "id": "_L8KxtB0F2lg"
      },
      "outputs": [],
      "source": [
        "train_load = DataLoader(train_data, batch_size=8, shuffle= True)\n"
      ]
    },
    {
      "cell_type": "code",
      "execution_count": null,
      "metadata": {
        "colab": {
          "base_uri": "https://localhost:8080/"
        },
        "id": "mcaYFha2MOak",
        "outputId": "c276f5f8-f571-4644-fa91-1f037b5e7fdc"
      },
      "outputs": [
        {
          "name": "stdout",
          "output_type": "stream",
          "text": [
            "Learning Rate: 0.001\n",
            "Batch Size: 8\n",
            "Epochs: 10\n",
            "Optimizer: Adam\n",
            "Loss Function: CrossEntropyLoss\n"
          ]
        }
      ],
      "source": [
        "print(f\"Learning Rate: {optimizer.param_groups[0]['lr']}\")\n",
        "print(f\"Batch Size: {dataloader.batch_size}\")\n",
        "print(f\"Epochs: {num_epochs}\")\n",
        "print(f\"Optimizer: {optimizer.__class__.__name__}\")\n",
        "print(f\"Loss Function: {criterion.__class__.__name__}\")\n"
      ]
    },
    {
      "cell_type": "code",
      "execution_count": null,
      "metadata": {
        "colab": {
          "base_uri": "https://localhost:8080/"
        },
        "id": "k5lUrTU51Vjy",
        "outputId": "9d32cd42-9815-4622-d1dd-0cf283f326a6"
      },
      "outputs": [
        {
          "name": "stdout",
          "output_type": "stream",
          "text": [
            "Mean IoU: 0.7099999785423279\n"
          ]
        }
      ],
      "source": [
        "def calculate_iou(preds, labels):\n",
        "    preds = torch.argmax(preds, dim=1)  # Convert to class labels\n",
        "    intersection = (preds & labels).float().sum((1, 2))\n",
        "    union = (preds | labels).float().sum((1, 2))\n",
        "    iou = (intersection + 1e-6) / (union + 1e-6)\n",
        "    return iou.mean()\n",
        "\n",
        "# Evaluate Model\n",
        "model.eval()\n",
        "total_iou = 0.0\n",
        "\n",
        "with torch.no_grad():\n",
        "    for patches, labels in train_load:\n",
        "        patches, labels = patches.to(device), labels.to(device)\n",
        "        outputs = model(patches)\n",
        "\n",
        "        total_iou += calculate_iou(outputs, labels)\n",
        "\n",
        "print(f\"Mean IoU: {total_iou/len(train_load)}\")"
      ]
    },
    {
      "cell_type": "code",
      "execution_count": null,
      "metadata": {
        "colab": {
          "base_uri": "https://localhost:8080/"
        },
        "id": "57MKvW3RHERP",
        "outputId": "656a86e7-06f8-4346-d408-926778236f4a"
      },
      "outputs": [
        {
          "name": "stdout",
          "output_type": "stream",
          "text": [
            "Pixel Accuracy: 0.7100\n"
          ]
        }
      ],
      "source": [
        "def pixel_accuracy(preds, labels):\n",
        "    preds = torch.argmax(preds, dim=1)\n",
        "    correct = (preds == labels).sum().item()\n",
        "    total = labels.numel()\n",
        "    return correct / total\n",
        "\n",
        "# Evaluate\n",
        "total_acc = 0.0\n",
        "with torch.no_grad():\n",
        "    for patches, labels in train_load:\n",
        "        patches, labels = patches.to(device), labels.to(device)\n",
        "        outputs = model(patches)\n",
        "\n",
        "        total_acc += pixel_accuracy(outputs, labels)\n",
        "\n",
        "print(f\"Pixel Accuracy: {total_acc/len(train_load):.4f}\")\n"
      ]
    },
    {
      "cell_type": "markdown",
      "metadata": {
        "id": "UW9-9yl9qCXw"
      },
      "source": [
        "Next Steps: Implement hyperparamter grid search to find better hyperparamters"
      ]
    },
    {
      "cell_type": "markdown",
      "metadata": {
        "id": "IFQU9zDIRTSk"
      },
      "source": [
        "# Next Steps are to find the best hyperparameters"
      ]
    },
    {
      "cell_type": "markdown",
      "metadata": {
        "id": "n2nHJuuUTLuI"
      },
      "source": [
        "import itertools\n",
        "Hyperparameter grid\n",
        "learning_rates = [0.0001, 0.0005, 0.001]\n",
        "batch_sizes = [8, 16]\n",
        "epochs = [10]\n",
        "\n",
        "best_loss = float('inf')\n",
        "best_params = {}\n",
        "\n",
        "Grid search\n",
        "for lr, bs, epoch in itertools.product(learning_rates, batch_sizes, epochs):\n",
        "    print(f\"Training with lr={lr}, batch_size={bs}, epochs={epoch}\")\n",
        "    model = UNet()\n",
        "    optimizer = torch.optim.Adam(model.parameters(), lr=lr)\n",
        "    dataloader = DataLoader(train_data, batch_size=bs, shuffle=True)\n",
        "    criterion = dice_loss\n",
        "\n",
        "    # Run training\n",
        "    for epoch in range(epoch):\n",
        "        model.train()\n",
        "        total_loss = 0\n",
        "        for batch in dataloader:\n",
        "            inputs, labels = batch\n",
        "            optimizer.zero_grad()\n",
        "\n",
        "            outputs = model(inputs)  # Forward pass\n",
        "            loss = criterion(outputs, labels)  # Compute loss\n",
        "            loss.backward()  # Backpropagation\n",
        "            optimizer.step()  # Update weights\n",
        "\n",
        "            total_loss += loss.item()  # Accumulate loss\n",
        "\n",
        "        avg_loss = total_loss / len(dataloader)  # Compute average loss per epoch\n",
        "\n",
        "        # Check if current loss is better than the best loss so far\n",
        "        if avg_loss < best_loss:\n",
        "            best_loss = avg_loss\n",
        "            best_params = {\"learning_rate\": lr, \"batch_size\": bs, \"epochs\": epoch}"
      ]
    }
  ],
  "metadata": {
    "accelerator": "GPU",
    "colab": {
      "gpuType": "T4",
      "provenance": [],
      "include_colab_link": true
    },
    "kernelspec": {
      "display_name": "Python 3",
      "name": "python3"
    },
    "language_info": {
      "name": "python"
    }
  },
  "nbformat": 4,
  "nbformat_minor": 0
}