{
  "cells": [
    {
      "cell_type": "markdown",
      "metadata": {
        "id": "T0qitno3qCXk"
      },
      "source": [
        "Baseline Model"
      ]
    },
    {
      "cell_type": "markdown",
      "metadata": {
        "id": "OYnb-ZoXLmPF"
      },
      "source": [
        "# CNR Parking EDA Notebook\n",
        "\n",
        "This data will be prepared in preperation for training into a model"
      ]
    },
    {
      "cell_type": "code",
      "execution_count": null,
      "metadata": {
        "id": "B2hCSe8qLCo3"
      },
      "outputs": [],
      "source": [
        "#imports\n",
        "import os\n",
        "import cv2\n",
        "import torch\n",
        "import random\n",
        "import zipfile\n",
        "import numpy as np\n",
        "import torch.nn as nn\n",
        "import pandas as pd\n",
        "import seaborn as sns\n",
        "from PIL import Image\n",
        "import torch.optim as optim\n",
        "import tensorflow as tf\n",
        "import torch.nn.functional as F\n",
        "import matplotlib.pyplot as plt\n",
        "from urllib.request import urlretrieve\n",
        "import torchvision.transforms as transforms\n",
        "from torch.utils.data import Dataset, DataLoader\n",
        "%matplotlib inline"
      ]
    },
    {
      "cell_type": "markdown",
      "metadata": {
        "id": "dONf7SksL-ku"
      },
      "source": [
        "# Datasets\n",
        "\n",
        "CNRPark+EXT.csv (18.1 MB)\n",
        "\n",
        "CSV collecting metadata for each patch of both CNRPark and CNR-EXT datasets\n",
        "\n",
        "CNRPark-Patches-150x150.zip (36.6 MB)\n",
        "\n",
        "segmented images (patches) of parking spaces belonging to the CNRPark preliminary subset.\n",
        "Files follow this organization: <CAMERA>/<CLASS>/YYYYMMDD_HHMM_<SLOT_ID>.jpg, where:\n",
        "\n",
        "<CAMERA> can be A or B,\n",
        "<CLASS> can be free or busy,\n",
        "YYYYMMDD_HHMM is the zero-padded 24-hour capture datetime,\n",
        "<SLOT_ID> is a local ID given to the slot for that particular camera"
      ]
    },
    {
      "cell_type": "code",
      "execution_count": null,
      "metadata": {
        "colab": {
          "base_uri": "https://localhost:8080/",
          "height": 241
        },
        "id": "4EBxTiXjL0rt",
        "outputId": "0d4c4679-a7f0-4c57-c5b0-199917ef26fd"
      },
      "outputs": [
        {
          "name": "stderr",
          "output_type": "stream",
          "text": [
            "<ipython-input-43-332b11c17138>:10: DtypeWarning: Columns (0) have mixed types. Specify dtype option on import or set low_memory=False.\n",
            "  df = pd.read_csv(park_ext)\n"
          ]
        },
        {
          "data": {
            "application/vnd.google.colaboratory.intrinsic+json": {
              "type": "dataframe",
              "variable_name": "df"
            },
            "text/html": [
              "\n",
              "  <div id=\"df-0b25735b-59b7-40c5-8ad9-492e3b17ebd9\" class=\"colab-df-container\">\n",
              "    <div>\n",
              "<style scoped>\n",
              "    .dataframe tbody tr th:only-of-type {\n",
              "        vertical-align: middle;\n",
              "    }\n",
              "\n",
              "    .dataframe tbody tr th {\n",
              "        vertical-align: top;\n",
              "    }\n",
              "\n",
              "    .dataframe thead th {\n",
              "        text-align: right;\n",
              "    }\n",
              "</style>\n",
              "<table border=\"1\" class=\"dataframe\">\n",
              "  <thead>\n",
              "    <tr style=\"text-align: right;\">\n",
              "      <th></th>\n",
              "      <th>camera</th>\n",
              "      <th>datetime</th>\n",
              "      <th>day</th>\n",
              "      <th>hour</th>\n",
              "      <th>image_url</th>\n",
              "      <th>minute</th>\n",
              "      <th>month</th>\n",
              "      <th>occupancy</th>\n",
              "      <th>slot_id</th>\n",
              "      <th>weather</th>\n",
              "      <th>year</th>\n",
              "      <th>occupant_changed</th>\n",
              "    </tr>\n",
              "  </thead>\n",
              "  <tbody>\n",
              "    <tr>\n",
              "      <th>0</th>\n",
              "      <td>A</td>\n",
              "      <td>20150703_0805</td>\n",
              "      <td>3</td>\n",
              "      <td>8</td>\n",
              "      <td>CNRPark/A/free/20150703_0805_1.jpg</td>\n",
              "      <td>5</td>\n",
              "      <td>7</td>\n",
              "      <td>0</td>\n",
              "      <td>1</td>\n",
              "      <td>S</td>\n",
              "      <td>2015</td>\n",
              "      <td>NaN</td>\n",
              "    </tr>\n",
              "    <tr>\n",
              "      <th>1</th>\n",
              "      <td>A</td>\n",
              "      <td>20150703_0810</td>\n",
              "      <td>3</td>\n",
              "      <td>8</td>\n",
              "      <td>CNRPark/A/free/20150703_0810_1.jpg</td>\n",
              "      <td>10</td>\n",
              "      <td>7</td>\n",
              "      <td>0</td>\n",
              "      <td>1</td>\n",
              "      <td>S</td>\n",
              "      <td>2015</td>\n",
              "      <td>NaN</td>\n",
              "    </tr>\n",
              "    <tr>\n",
              "      <th>2</th>\n",
              "      <td>A</td>\n",
              "      <td>20150703_0815</td>\n",
              "      <td>3</td>\n",
              "      <td>8</td>\n",
              "      <td>CNRPark/A/busy/20150703_0815_1.jpg</td>\n",
              "      <td>15</td>\n",
              "      <td>7</td>\n",
              "      <td>1</td>\n",
              "      <td>1</td>\n",
              "      <td>S</td>\n",
              "      <td>2015</td>\n",
              "      <td>0.0</td>\n",
              "    </tr>\n",
              "    <tr>\n",
              "      <th>3</th>\n",
              "      <td>A</td>\n",
              "      <td>20150703_0820</td>\n",
              "      <td>3</td>\n",
              "      <td>8</td>\n",
              "      <td>CNRPark/A/busy/20150703_0820_1.jpg</td>\n",
              "      <td>20</td>\n",
              "      <td>7</td>\n",
              "      <td>1</td>\n",
              "      <td>1</td>\n",
              "      <td>S</td>\n",
              "      <td>2015</td>\n",
              "      <td>0.0</td>\n",
              "    </tr>\n",
              "    <tr>\n",
              "      <th>4</th>\n",
              "      <td>A</td>\n",
              "      <td>20150703_0825</td>\n",
              "      <td>3</td>\n",
              "      <td>8</td>\n",
              "      <td>CNRPark/A/busy/20150703_0825_1.jpg</td>\n",
              "      <td>25</td>\n",
              "      <td>7</td>\n",
              "      <td>1</td>\n",
              "      <td>1</td>\n",
              "      <td>S</td>\n",
              "      <td>2015</td>\n",
              "      <td>0.0</td>\n",
              "    </tr>\n",
              "  </tbody>\n",
              "</table>\n",
              "</div>\n",
              "    <div class=\"colab-df-buttons\">\n",
              "\n",
              "  <div class=\"colab-df-container\">\n",
              "    <button class=\"colab-df-convert\" onclick=\"convertToInteractive('df-0b25735b-59b7-40c5-8ad9-492e3b17ebd9')\"\n",
              "            title=\"Convert this dataframe to an interactive table.\"\n",
              "            style=\"display:none;\">\n",
              "\n",
              "  <svg xmlns=\"http://www.w3.org/2000/svg\" height=\"24px\" viewBox=\"0 -960 960 960\">\n",
              "    <path d=\"M120-120v-720h720v720H120Zm60-500h600v-160H180v160Zm220 220h160v-160H400v160Zm0 220h160v-160H400v160ZM180-400h160v-160H180v160Zm440 0h160v-160H620v160ZM180-180h160v-160H180v160Zm440 0h160v-160H620v160Z\"/>\n",
              "  </svg>\n",
              "    </button>\n",
              "\n",
              "  <style>\n",
              "    .colab-df-container {\n",
              "      display:flex;\n",
              "      gap: 12px;\n",
              "    }\n",
              "\n",
              "    .colab-df-convert {\n",
              "      background-color: #E8F0FE;\n",
              "      border: none;\n",
              "      border-radius: 50%;\n",
              "      cursor: pointer;\n",
              "      display: none;\n",
              "      fill: #1967D2;\n",
              "      height: 32px;\n",
              "      padding: 0 0 0 0;\n",
              "      width: 32px;\n",
              "    }\n",
              "\n",
              "    .colab-df-convert:hover {\n",
              "      background-color: #E2EBFA;\n",
              "      box-shadow: 0px 1px 2px rgba(60, 64, 67, 0.3), 0px 1px 3px 1px rgba(60, 64, 67, 0.15);\n",
              "      fill: #174EA6;\n",
              "    }\n",
              "\n",
              "    .colab-df-buttons div {\n",
              "      margin-bottom: 4px;\n",
              "    }\n",
              "\n",
              "    [theme=dark] .colab-df-convert {\n",
              "      background-color: #3B4455;\n",
              "      fill: #D2E3FC;\n",
              "    }\n",
              "\n",
              "    [theme=dark] .colab-df-convert:hover {\n",
              "      background-color: #434B5C;\n",
              "      box-shadow: 0px 1px 3px 1px rgba(0, 0, 0, 0.15);\n",
              "      filter: drop-shadow(0px 1px 2px rgba(0, 0, 0, 0.3));\n",
              "      fill: #FFFFFF;\n",
              "    }\n",
              "  </style>\n",
              "\n",
              "    <script>\n",
              "      const buttonEl =\n",
              "        document.querySelector('#df-0b25735b-59b7-40c5-8ad9-492e3b17ebd9 button.colab-df-convert');\n",
              "      buttonEl.style.display =\n",
              "        google.colab.kernel.accessAllowed ? 'block' : 'none';\n",
              "\n",
              "      async function convertToInteractive(key) {\n",
              "        const element = document.querySelector('#df-0b25735b-59b7-40c5-8ad9-492e3b17ebd9');\n",
              "        const dataTable =\n",
              "          await google.colab.kernel.invokeFunction('convertToInteractive',\n",
              "                                                    [key], {});\n",
              "        if (!dataTable) return;\n",
              "\n",
              "        const docLinkHtml = 'Like what you see? Visit the ' +\n",
              "          '<a target=\"_blank\" href=https://colab.research.google.com/notebooks/data_table.ipynb>data table notebook</a>'\n",
              "          + ' to learn more about interactive tables.';\n",
              "        element.innerHTML = '';\n",
              "        dataTable['output_type'] = 'display_data';\n",
              "        await google.colab.output.renderOutput(dataTable, element);\n",
              "        const docLink = document.createElement('div');\n",
              "        docLink.innerHTML = docLinkHtml;\n",
              "        element.appendChild(docLink);\n",
              "      }\n",
              "    </script>\n",
              "  </div>\n",
              "\n",
              "\n",
              "<div id=\"df-6c4e9f1c-135c-4e7b-894a-9e8129b16db2\">\n",
              "  <button class=\"colab-df-quickchart\" onclick=\"quickchart('df-6c4e9f1c-135c-4e7b-894a-9e8129b16db2')\"\n",
              "            title=\"Suggest charts\"\n",
              "            style=\"display:none;\">\n",
              "\n",
              "<svg xmlns=\"http://www.w3.org/2000/svg\" height=\"24px\"viewBox=\"0 0 24 24\"\n",
              "     width=\"24px\">\n",
              "    <g>\n",
              "        <path d=\"M19 3H5c-1.1 0-2 .9-2 2v14c0 1.1.9 2 2 2h14c1.1 0 2-.9 2-2V5c0-1.1-.9-2-2-2zM9 17H7v-7h2v7zm4 0h-2V7h2v10zm4 0h-2v-4h2v4z\"/>\n",
              "    </g>\n",
              "</svg>\n",
              "  </button>\n",
              "\n",
              "<style>\n",
              "  .colab-df-quickchart {\n",
              "      --bg-color: #E8F0FE;\n",
              "      --fill-color: #1967D2;\n",
              "      --hover-bg-color: #E2EBFA;\n",
              "      --hover-fill-color: #174EA6;\n",
              "      --disabled-fill-color: #AAA;\n",
              "      --disabled-bg-color: #DDD;\n",
              "  }\n",
              "\n",
              "  [theme=dark] .colab-df-quickchart {\n",
              "      --bg-color: #3B4455;\n",
              "      --fill-color: #D2E3FC;\n",
              "      --hover-bg-color: #434B5C;\n",
              "      --hover-fill-color: #FFFFFF;\n",
              "      --disabled-bg-color: #3B4455;\n",
              "      --disabled-fill-color: #666;\n",
              "  }\n",
              "\n",
              "  .colab-df-quickchart {\n",
              "    background-color: var(--bg-color);\n",
              "    border: none;\n",
              "    border-radius: 50%;\n",
              "    cursor: pointer;\n",
              "    display: none;\n",
              "    fill: var(--fill-color);\n",
              "    height: 32px;\n",
              "    padding: 0;\n",
              "    width: 32px;\n",
              "  }\n",
              "\n",
              "  .colab-df-quickchart:hover {\n",
              "    background-color: var(--hover-bg-color);\n",
              "    box-shadow: 0 1px 2px rgba(60, 64, 67, 0.3), 0 1px 3px 1px rgba(60, 64, 67, 0.15);\n",
              "    fill: var(--button-hover-fill-color);\n",
              "  }\n",
              "\n",
              "  .colab-df-quickchart-complete:disabled,\n",
              "  .colab-df-quickchart-complete:disabled:hover {\n",
              "    background-color: var(--disabled-bg-color);\n",
              "    fill: var(--disabled-fill-color);\n",
              "    box-shadow: none;\n",
              "  }\n",
              "\n",
              "  .colab-df-spinner {\n",
              "    border: 2px solid var(--fill-color);\n",
              "    border-color: transparent;\n",
              "    border-bottom-color: var(--fill-color);\n",
              "    animation:\n",
              "      spin 1s steps(1) infinite;\n",
              "  }\n",
              "\n",
              "  @keyframes spin {\n",
              "    0% {\n",
              "      border-color: transparent;\n",
              "      border-bottom-color: var(--fill-color);\n",
              "      border-left-color: var(--fill-color);\n",
              "    }\n",
              "    20% {\n",
              "      border-color: transparent;\n",
              "      border-left-color: var(--fill-color);\n",
              "      border-top-color: var(--fill-color);\n",
              "    }\n",
              "    30% {\n",
              "      border-color: transparent;\n",
              "      border-left-color: var(--fill-color);\n",
              "      border-top-color: var(--fill-color);\n",
              "      border-right-color: var(--fill-color);\n",
              "    }\n",
              "    40% {\n",
              "      border-color: transparent;\n",
              "      border-right-color: var(--fill-color);\n",
              "      border-top-color: var(--fill-color);\n",
              "    }\n",
              "    60% {\n",
              "      border-color: transparent;\n",
              "      border-right-color: var(--fill-color);\n",
              "    }\n",
              "    80% {\n",
              "      border-color: transparent;\n",
              "      border-right-color: var(--fill-color);\n",
              "      border-bottom-color: var(--fill-color);\n",
              "    }\n",
              "    90% {\n",
              "      border-color: transparent;\n",
              "      border-bottom-color: var(--fill-color);\n",
              "    }\n",
              "  }\n",
              "</style>\n",
              "\n",
              "  <script>\n",
              "    async function quickchart(key) {\n",
              "      const quickchartButtonEl =\n",
              "        document.querySelector('#' + key + ' button');\n",
              "      quickchartButtonEl.disabled = true;  // To prevent multiple clicks.\n",
              "      quickchartButtonEl.classList.add('colab-df-spinner');\n",
              "      try {\n",
              "        const charts = await google.colab.kernel.invokeFunction(\n",
              "            'suggestCharts', [key], {});\n",
              "      } catch (error) {\n",
              "        console.error('Error during call to suggestCharts:', error);\n",
              "      }\n",
              "      quickchartButtonEl.classList.remove('colab-df-spinner');\n",
              "      quickchartButtonEl.classList.add('colab-df-quickchart-complete');\n",
              "    }\n",
              "    (() => {\n",
              "      let quickchartButtonEl =\n",
              "        document.querySelector('#df-6c4e9f1c-135c-4e7b-894a-9e8129b16db2 button');\n",
              "      quickchartButtonEl.style.display =\n",
              "        google.colab.kernel.accessAllowed ? 'block' : 'none';\n",
              "    })();\n",
              "  </script>\n",
              "</div>\n",
              "\n",
              "    </div>\n",
              "  </div>\n"
            ],
            "text/plain": [
              "  camera       datetime  day  hour                           image_url  \\\n",
              "0      A  20150703_0805    3     8  CNRPark/A/free/20150703_0805_1.jpg   \n",
              "1      A  20150703_0810    3     8  CNRPark/A/free/20150703_0810_1.jpg   \n",
              "2      A  20150703_0815    3     8  CNRPark/A/busy/20150703_0815_1.jpg   \n",
              "3      A  20150703_0820    3     8  CNRPark/A/busy/20150703_0820_1.jpg   \n",
              "4      A  20150703_0825    3     8  CNRPark/A/busy/20150703_0825_1.jpg   \n",
              "\n",
              "   minute  month  occupancy  slot_id weather  year  occupant_changed  \n",
              "0       5      7          0        1       S  2015               NaN  \n",
              "1      10      7          0        1       S  2015               NaN  \n",
              "2      15      7          1        1       S  2015               0.0  \n",
              "3      20      7          1        1       S  2015               0.0  \n",
              "4      25      7          1        1       S  2015               0.0  "
            ]
          },
          "execution_count": 43,
          "metadata": {},
          "output_type": "execute_result"
        }
      ],
      "source": [
        "# CSV file of both park_ext data\n",
        "park_ext = \"https://github.com/fabiocarrara/deep-parking/releases/download/archive/CNRPark+EXT.csv\"\n",
        "\n",
        "# segmented images beloning to CNR_Park subset\n",
        "cnr_park = \"https://github.com/fabiocarrara/deep-parking/releases/download/archive/CNR-EXT-Patches-150x150.zip\"\n",
        "\n",
        "# segmented images of for CNR_EXT subset\n",
        "cnr_ext = \"https://github.com/fabiocarrara/deep-parking/releases/download/archive/CNR-EXT-Patches-150x150.zip\"\n",
        "\n",
        "df = pd.read_csv(park_ext)\n",
        "\n",
        "df.head()"
      ]
    },
    {
      "cell_type": "code",
      "execution_count": null,
      "metadata": {
        "colab": {
          "base_uri": "https://localhost:8080/"
        },
        "id": "0vqH0NDF0ATx",
        "outputId": "a8edb7a3-3e53-4698-a729-235983041c2e"
      },
      "outputs": [
        {
          "name": "stdout",
          "output_type": "stream",
          "text": [
            "<class 'pandas.core.frame.DataFrame'>\n",
            "RangeIndex: 157549 entries, 0 to 157548\n",
            "Data columns (total 12 columns):\n",
            " #   Column            Non-Null Count   Dtype  \n",
            "---  ------            --------------   -----  \n",
            " 0   camera            157549 non-null  object \n",
            " 1   datetime          157549 non-null  object \n",
            " 2   day               157549 non-null  int64  \n",
            " 3   hour              157549 non-null  int64  \n",
            " 4   image_url         157549 non-null  object \n",
            " 5   minute            157549 non-null  int64  \n",
            " 6   month             157549 non-null  int64  \n",
            " 7   occupancy         157549 non-null  int64  \n",
            " 8   slot_id           157549 non-null  int64  \n",
            " 9   weather           157549 non-null  object \n",
            " 10  year              157549 non-null  int64  \n",
            " 11  occupant_changed  87618 non-null   float64\n",
            "dtypes: float64(1), int64(7), object(4)\n",
            "memory usage: 14.4+ MB\n"
          ]
        }
      ],
      "source": [
        "# Display info\n",
        "df.info()"
      ]
    },
    {
      "cell_type": "code",
      "execution_count": null,
      "metadata": {
        "colab": {
          "base_uri": "https://localhost:8080/"
        },
        "id": "GTaz4-CSonN9",
        "outputId": "0493e4c5-ec98-4011-e33c-4d4cfe8968c4"
      },
      "outputs": [
        {
          "name": "stdout",
          "output_type": "stream",
          "text": [
            "Downloading dataset...\n",
            "Extracting dataset...\n"
          ]
        }
      ],
      "source": [
        "\n",
        "# paths\n",
        "zip_path = \"/content/CNR-EXT-Patches-150x150.zip\"\n",
        "extract_path = \"/content/CNR-EXT-Patches\"\n",
        "\n",
        "# Download and extract images\n",
        "print(\"Downloading dataset...\")\n",
        "urlretrieve(\"https://github.com/fabiocarrara/deep-parking/releases/download/archive/CNR-EXT-Patches-150x150.zip\", zip_path)\n",
        "\n",
        "print(\"Extracting dataset...\")\n",
        "with zipfile.ZipFile(zip_path, 'r') as zip_ref:\n",
        "    zip_ref.extractall(extract_path)\n",
        "    zip_contents = zip_ref.namelist()\n",
        "\n",
        "#print(\"Dataset extracted successfully!\")\n",
        "#for file in zip_contents:\n",
        "    #print(file)\n"
      ]
    },
    {
      "cell_type": "code",
      "execution_count": null,
      "metadata": {
        "colab": {
          "base_uri": "https://localhost:8080/"
        },
        "id": "BHpTmvRYjVxq",
        "outputId": "0d779d2d-b14b-4935-efa5-25d31140cc8c"
      },
      "outputs": [
        {
          "name": "stdout",
          "output_type": "stream",
          "text": [
            "['LABELS', 'PATCHES']\n"
          ]
        }
      ],
      "source": [
        "#Name list of files extracted\n",
        "extracted_files = os.listdir(extract_path)\n",
        "print(extracted_files)"
      ]
    },
    {
      "cell_type": "code",
      "execution_count": null,
      "metadata": {
        "colab": {
          "base_uri": "https://localhost:8080/"
        },
        "id": "xPeCcfMJssVe",
        "outputId": "3d19064b-dc74-47a0-dc83-16c21414b6f6"
      },
      "outputs": [
        {
          "name": "stdout",
          "output_type": "stream",
          "text": [
            "CNR-EXT-Patches\t\t     model_architecture.png    uner_forward_propagation.pdf\n",
            "CNR-EXT-Patches-150x150.zip  sample_data\t       unet_forward_propagation\n",
            "model_architecture\t     uner_forward_propagation  unet_forward_propagation.png\n"
          ]
        }
      ],
      "source": [
        "!ls /content\n"
      ]
    },
    {
      "cell_type": "code",
      "execution_count": null,
      "metadata": {
        "id": "DVXoMla3RV4_"
      },
      "outputs": [],
      "source": [
        "class ParkingDataset(Dataset):\n",
        "    def __init__(self, patch_dir, label_dir, transform=None):\n",
        "        self.patch_dir = patch_dir\n",
        "        self.label_dir = label_dir\n",
        "        self.transform = transform\n",
        "        self.patches = []\n",
        "        self.labels = {}\n",
        "\n",
        "        # Read label files\n",
        "        for label_file in os.listdir(label_dir):\n",
        "            if label_file.endswith(\".txt\"):\n",
        "                camera_id = label_file.split(\".txt\")[0]  # remove .txt\n",
        "                label_path = os.path.join(label_dir, label_file)\n",
        "\n",
        "                with open(label_path, \"r\") as file:\n",
        "                    for line in file:\n",
        "                        parts = line.strip().split(\" \")  # split\n",
        "                        if len(parts) == 2:\n",
        "                            img_relative_path, label = parts\n",
        "                            full_img_path = os.path.join(patch_dir, \"PATCHES\", img_relative_path)  # full path\n",
        "                            self.labels[full_img_path] = int(label)\n",
        "\n",
        "        # image paths\n",
        "        for root, _, files in os.walk(patch_dir):\n",
        "            for file in files:\n",
        "                full_path = os.path.join(root, file)\n",
        "                if full_path in self.labels:  # images match full path\n",
        "                    self.patches.append(full_path)\n",
        "\n",
        "    def __len__(self):\n",
        "        return len(self.patches)\n",
        "\n",
        "    def __getitem__(self, idx):\n",
        "     patch_path = self.patches[idx]\n",
        "     label = self.labels.get(patch_path, 0)  # Default to 0 if missing\n",
        "\n",
        "     patch = Image.open(patch_path).convert(\"RGB\")\n",
        "\n",
        "     if self.transform:\n",
        "        patch = self.transform(patch)\n",
        "\n",
        "    # 128x128 tensor\n",
        "     label = torch.full((128, 128), label, dtype=torch.long)\n",
        "\n",
        "     return patch, label\n",
        "\n",
        "\n",
        "#set paths\n",
        "patch_dir = \"/content/CNR-EXT-Patches\"\n",
        "label_dir = \"/content/CNR-EXT-Patches/LABELS\"\n"
      ]
    },
    {
      "cell_type": "code",
      "execution_count": null,
      "metadata": {
        "id": "Er74ND6hRXzz"
      },
      "outputs": [],
      "source": [
        "#Data Aumentation\n",
        "transform = transforms.Compose([\n",
        "    transforms.Resize((128,128)),\n",
        "    transforms.RandomHorizontalFlip(p=0.5),\n",
        "    transforms.RandomRotation(degrees=20),\n",
        "    transforms.ColorJitter(brightness=0.2, contrast=0.2,saturation=0.2),\n",
        "    transforms.ToTensor()\n",
        "])"
      ]
    },
    {
      "cell_type": "code",
      "execution_count": null,
      "metadata": {
        "id": "YDWxU3DMRi3L"
      },
      "outputs": [],
      "source": [
        "train_data = ParkingDataset(patch_dir,label_dir,transform)\n",
        "train_load = DataLoader(train_data, batch_size=8, shuffle= True)\n"
      ]
    },
    {
      "cell_type": "code",
      "source": [
        "import torch\n",
        "import torch.nn as nn\n",
        "import torchvision\n",
        "from torchvision import models\n",
        "import torch.optim as optim\n",
        "from torchvision.transforms import functional as F\n",
        "from torch.utils.data import DataLoader, Dataset"
      ],
      "metadata": {
        "id": "yl3W-7jNLlxN"
      },
      "execution_count": null,
      "outputs": []
    },
    {
      "cell_type": "code",
      "source": [
        "# Define the RCNN model\n",
        "class RCNN(nn.Module):\n",
        "    def __init__(self, num_classes):\n",
        "        super(RCNN, self).__init__()\n",
        "\n",
        "        # Backbone network - Here we use ResNet as a backbone\n",
        "        self.backbone = models.resnet18(pretrained=True)\n",
        "        self.backbone = nn.Sequential(*list(self.backbone.children())[:-2])  # Remove the final fully connected layers\n",
        "\n",
        "        # Region Proposal Network (RPN)\n",
        "        self.rpn_conv1 = nn.Conv2d(128, 64, kernel_size=3, padding=1)\n",
        "        self.rpn_cls = nn.Conv2d(64, 32, kernel_size=1)  # Objectness scores for 9 proposals\n",
        "        self.rpn_reg = nn.Conv2d(64, 30, kernel_size=1)  # Bounding box regression (4 coordinates for each of the 9 proposals)\n",
        "\n",
        "        # RoI Pooling (simplified)\n",
        "        self.roi_pool = torchvision.ops.MultiScaleRoIAlign(\n",
        "            output_size=(7, 7), spatial_scale=1.0/16, sampling_ratio=2\n",
        "        )\n",
        "\n",
        "        # Classifier and Bounding Box Regressor\n",
        "        self.classifier_fc = nn.Linear(128*7*7, 2048)\n",
        "        self.classifier_out = nn.Linear(2048, num_classes)\n",
        "        self.bbox_fc = nn.Linear(2048, 4)\n",
        "\n",
        "    def forward(self, x):\n",
        "        # Extract feature map using backbone\n",
        "        features = self.backbone(x)\n",
        "\n",
        "        # Apply RPN to generate objectness scores and bounding box regressions\n",
        "        rpn_features = F.relu(self.rpn_conv1(features))\n",
        "        objectness = self.rpn_cls(rpn_features)\n",
        "        bbox_preds = self.rpn_reg(rpn_features)\n",
        "\n",
        "        # Generate region proposals (you would typically use a proposal generator here)\n",
        "        # For simplicity, we assume fixed proposals (this step is simplified in this case)\n",
        "        proposals = self.generate_proposals(objectness, bbox_preds)\n",
        "\n",
        "        # RoI Pooling on the features\n",
        "        pooled_features = self.roi_pool(features, proposals)\n",
        "\n",
        "        # Flatten pooled features\n",
        "        pooled_features = pooled_features.view(pooled_features.size(0), -1)\n",
        "\n",
        "        # Pass through classifier and regressor\n",
        "        x_class = self.classifier_fc(pooled_features)\n",
        "        x_class = F.relu(x_class)\n",
        "        class_scores = self.classifier_out(x_class)\n",
        "\n",
        "        bbox_preds = self.bbox_fc(x_class)\n",
        "\n",
        "        return class_scores, bbox_preds\n",
        "\n",
        "    def generate_proposals(self, objectness, bbox_preds):\n",
        "        return objectness\n"
      ],
      "metadata": {
        "id": "DOlyuYdaL1tx"
      },
      "execution_count": null,
      "outputs": []
    },
    {
      "cell_type": "code",
      "source": [
        "# Initialize and train the model\n",
        "def train_rcnn(model, train_loader, optimizer, criterion, epochs=10):\n",
        "    model.train()\n",
        "    for epoch in range(epochs):\n",
        "        running_loss = 0.0\n",
        "        for images, annotations in train_loader:\n",
        "            optimizer.zero_grad()\n",
        "\n",
        "            # Forward pass\n",
        "            class_scores, bbox_preds = model(images)\n",
        "\n",
        "            # Calculate loss\n",
        "            loss = criterion(class_scores, bbox_preds, annotations)  # You would define this custom loss\n",
        "            loss.backward()\n",
        "            optimizer.step()\n",
        "\n",
        "            running_loss += loss.item()\n",
        "\n",
        "        print(f\"Epoch [{epoch+1}/{epochs}], Loss: {running_loss/len(train_loader)}\")"
      ],
      "metadata": {
        "id": "pHU61lgWHiUR"
      },
      "execution_count": null,
      "outputs": []
    },
    {
      "cell_type": "code",
      "source": [
        "train_loader = DataLoader(CNRparkDataset(image_paths=[''], annotations=[]), batch_size=4, shuffle=True)\n",
        "model = RCNN(num_classes=2)  # Assuming binary classification for car/no car\n",
        "optimizer = optim.Adam(model.parameters(), lr=0.001)\n",
        "criterion = nn.CrossEntropyLoss()  # You need a custom loss function combining classification and bbox regression losses\n",
        "train_rcnn(model, train_loader, optimizer, criterion)"
      ],
      "metadata": {
        "id": "rlFbBvfbMM0R"
      },
      "execution_count": null,
      "outputs": []
    },
    {
      "cell_type": "code",
      "source": [
        "#grid search to find best learning rate, batch size,\n",
        "#may be try resnet 101 instead of resnet 50\n",
        "#change all images to grayscale to see what that does"
      ],
      "metadata": {
        "id": "Z-cGk1hPHhp6"
      },
      "execution_count": null,
      "outputs": []
    },
    {
      "cell_type": "code",
      "source": [],
      "metadata": {
        "id": "vdE4loIsHhnu"
      },
      "execution_count": null,
      "outputs": []
    },
    {
      "cell_type": "code",
      "source": [],
      "metadata": {
        "id": "skP5dSF8Hhdl"
      },
      "execution_count": null,
      "outputs": []
    }
  ],
  "metadata": {
    "accelerator": "GPU",
    "colab": {
      "gpuType": "T4",
      "provenance": []
    },
    "kernelspec": {
      "display_name": "Python 3",
      "name": "python3"
    },
    "language_info": {
      "name": "python"
    }
  },
  "nbformat": 4,
  "nbformat_minor": 0
}